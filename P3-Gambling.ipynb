{
 "cells": [
  {
   "cell_type": "markdown",
   "id": "e87fdfc4",
   "metadata": {},
   "source": [
    "# PRACTICA 3\n",
    "\n",
    "\n",
    "## JUEGO DE ADIVINANZAS\n",
    "\n",
    "#### Escribe un programa que coja un número entero del 1 al 100, y los jugadores tienen que tratar de adivinar el número.\n",
    "\n",
    "#### Las reglas son las siguientes:\n",
    "\n",
    "1. Si un jugador escoje un número menor que 1 o mayor que 100, el programa dice \"FUERA DE LÍMITES\"\n",
    "2. En el primer turno del jugador, si está en un rango de 10 del número dice \"¡CALIENTE!\". Si está fuera de ese rango dice \"¡FRIO!\"\n",
    "3. En todas las rondas siguientes, si el jugador se acerca más que la vez anterior, dice \"¡MAS CALIENTE!\". Si está más lejos que la anterior vez dice \"¡MAS FRIO!\"\n",
    "4. Cuando el jugador acierte el número, les dirá que han acertado y cuántos intentos les ha llevado\n",
    "\n",
    "\n",
    "\n"
   ]
  },
  {
   "cell_type": "markdown",
   "id": "1ea418c3",
   "metadata": {},
   "source": [
    "##### PISTAS\n",
    "1. Trata obtener un número aleatorio entre el 1 y el 100\n",
    "2. Haz una introducción de tu juego y explica las reglas\n",
    "3. Crea una lista que almacene los intentos. \n",
    "4. Haz un bucle que evalúe un número. Prueba que funcione primero. While podría ir bien\n",
    "5. Modifica ese bucle para que compare nuestro número con el intento. Si se acierta usa break, si no puedes usar continue y tienes que seguir preguntando al jugador por nuevos intentos"
   ]
  },
  {
   "cell_type": "code",
   "execution_count": 3,
   "id": "9d8095d9",
   "metadata": {},
   "outputs": [
    {
     "name": "stdout",
     "output_type": "stream",
     "text": [
      "Bienvenido a GAMBLING NUMBERS\n",
      "Por favor abstengase de poner palabras, objetos, gatos y demases, solo aceptamos números\n"
     ]
    },
    {
     "name": "stdin",
     "output_type": "stream",
     "text": [
      "Mientras intentas adivinar el número voy a hacerme un cafe: 56\n"
     ]
    },
    {
     "name": "stdout",
     "output_type": "stream",
     "text": [
      "FRIO\n"
     ]
    },
    {
     "name": "stdin",
     "output_type": "stream",
     "text": [
      "Vamos vamos vamos que nos vamos: 89\n"
     ]
    },
    {
     "name": "stdout",
     "output_type": "stream",
     "text": [
      "MÁS FRIO\n"
     ]
    },
    {
     "name": "stdin",
     "output_type": "stream",
     "text": [
      "Mientras intentas adivinar el número voy a hacerme un cafe: gato\n"
     ]
    },
    {
     "name": "stdout",
     "output_type": "stream",
     "text": [
      "NO ES UN NÚMERO\n"
     ]
    },
    {
     "name": "stdin",
     "output_type": "stream",
     "text": [
      "Adivina el número, ¿ o no puedes?: 400\n"
     ]
    },
    {
     "name": "stdout",
     "output_type": "stream",
     "text": [
      "FUERA DE LÍMITES\n"
     ]
    },
    {
     "name": "stdin",
     "output_type": "stream",
     "text": [
      "Adivina el número, ¿ o no puedes?: 40\n"
     ]
    },
    {
     "name": "stdout",
     "output_type": "stream",
     "text": [
      "MÁS CALIENTE\n"
     ]
    },
    {
     "name": "stdin",
     "output_type": "stream",
     "text": [
      "Vamos vamos vamos que nos vamos: 45\n"
     ]
    },
    {
     "name": "stdout",
     "output_type": "stream",
     "text": [
      "MÁS CALIENTE\n",
      "!!!WIIIIN!!! Lo lograste en 4 intentos.\n"
     ]
    }
   ],
   "source": [
    "import random # Para que en cada juego el número cambie\n",
    "print(\"Bienvenido a GAMBLING NUMBERS\")\n",
    "print(\"Por favor abstengase de poner palabras, objetos, gatos y demases, solo aceptamos números\")\n",
    "numero_adivinanza = random.randint(1,100)\n",
    "intentos = []\n",
    "mensajes_variables = [\n",
    "    \"Adivina el número, ¿ o no puedes?:\",\n",
    "    \"Vamos vamos vamos que nos vamos:\",\n",
    "    \"Mientras intentas adivinar el número voy a hacerme un cafe:\"\n",
    "]  # Frases para picar un poquito en caa intento\n",
    "while True: #Un bucle while para que cada vez que den un input se ejecute todo desde el inicio\n",
    "    try:\n",
    "        primer_try = int(input(random.choice(mensajes_variables))) #Pedimos un número usando un mensaje aleatorio de la lista\n",
    "    except ValueError:\n",
    "        print(\"NO ES UN NÚMERO\") #Nos aseguramos de que el input es un número\n",
    "        continue\n",
    "    if primer_try < 1 or primer_try >100: #Nos aseguramos que el input está dentro de los límites\n",
    "        print(\"FUERA DE LÍMITES\")\n",
    "        continue\n",
    "    intentos.append(primer_try) #Guardamos el intento en la lista\n",
    "    aproximado = abs(numero_adivinanza - primer_try) #Calculamos qué tan lejos está el intento del número a adivinar\n",
    "    if len(intentos) == 1: #Para el primer intento\n",
    "        if aproximado <=10:\n",
    "            print(\"CALIENTE\") #Muy cerca\n",
    "        else:\n",
    "            print(\"FRIO\") #Muy lejos\n",
    "    else: #para los intentos posteriores\n",
    "        ultimo_intento = intentos[-2] # Comparamos con el intento anterior\n",
    "        if aproximado < abs(numero_adivinanza- ultimo_intento):\n",
    "            print(\"MÁS CALIENTE\") #El jugador se acercó más que antes\n",
    "        else:\n",
    "            print(\"MÁS FRIO\") #El jugador se alejó más que antes\n",
    "    if primer_try == numero_adivinanza: #Sí adivina el número\n",
    "        print(f\"!!!WIIIIN!!! Lo lograste en {len(intentos)} intentos.\")\n",
    "        break #Salimos del bucle y terminamos el juego\n",
    "\n"
   ]
  }
 ],
 "metadata": {
  "kernelspec": {
   "display_name": "Python 3",
   "language": "python",
   "name": "python3"
  },
  "language_info": {
   "codemirror_mode": {
    "name": "ipython",
    "version": 3
   },
   "file_extension": ".py",
   "mimetype": "text/x-python",
   "name": "python",
   "nbconvert_exporter": "python",
   "pygments_lexer": "ipython3",
   "version": "3.13.5"
  }
 },
 "nbformat": 4,
 "nbformat_minor": 5
}
