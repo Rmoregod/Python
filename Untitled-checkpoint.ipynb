{
 "cells": [
  {
   "cell_type": "markdown",
   "id": "a6ddafd8-8efa-4221-816a-8cfec44a6b19",
   "metadata": {},
   "source": [
    "# First Notebook\n"
   ]
  },
  {
   "cell_type": "markdown",
   "id": "69774986-535c-45ed-8e12-5b68628ea786",
   "metadata": {},
   "source": [
    "Este es mi primer notebook y voy a hacer lo siguiente"
   ]
  },
  {
   "cell_type": "markdown",
   "id": "29cdf888-7690-4181-8a3e-cf4d156ca61d",
   "metadata": {},
   "source": [
    "Una lista **por puntos:**\n",
    "\n",
    "* Primero\n",
    "* Segundo\n",
    "* Tercero\n",
    "\n",
    "Una lista **enumerada:**\n",
    "1. Primero  \n",
    "2. Segundo  \n",
    "3. Tercero\n"
   ]
  },
  {
   "cell_type": "code",
   "execution_count": null,
   "id": "caf83db1-2c6f-4217-b5ee-ef3448534b57",
   "metadata": {},
   "outputs": [],
   "source": [
    "Mi primer código:"
   ]
  },
  {
   "cell_type": "code",
   "execution_count": 6,
   "id": "20e173a5-228f-41e6-9067-fcee4c098b1a",
   "metadata": {},
   "outputs": [
    {
     "name": "stdout",
     "output_type": "stream",
     "text": [
      "Hello world\n"
     ]
    }
   ],
   "source": [
    "mi_primera_frase = \"Hello world\"\n",
    "# Como cuando lo ejecuto no sale nada, tengo que usar la función print()\n",
    "print(mi_primera_frase)"
   ]
  },
  {
   "cell_type": "code",
   "execution_count": 9,
   "id": "217245d1-cdfc-4755-bfaf-9f9eb071532c",
   "metadata": {},
   "outputs": [],
   "source": [
    "# A ver si así lo entiendes mejor:\n",
    "numeros = [10,20,30,40,50]"
   ]
  },
  {
   "cell_type": "code",
   "execution_count": 10,
   "id": "25ea18ee-0e3c-41a4-9c0b-61e6ada2f8db",
   "metadata": {},
   "outputs": [],
   "source": [
    "media = sum(numeros) /len(numeros)"
   ]
  },
  {
   "cell_type": "code",
   "execution_count": 11,
   "id": "469276e6-342b-405c-bbb6-2224552f00d8",
   "metadata": {},
   "outputs": [
    {
     "name": "stdout",
     "output_type": "stream",
     "text": [
      "30.0\n"
     ]
    }
   ],
   "source": [
    "print(media)"
   ]
  },
  {
   "cell_type": "markdown",
   "id": "b69a26b5-3532-437e-90b6-7816d7448502",
   "metadata": {},
   "source": [
    "# Finalizamos con una bonita imagen"
   ]
  },
  {
   "cell_type": "markdown",
   "id": "7edddc1e-3bc7-4356-a0fe-403ba30d1969",
   "metadata": {},
   "source": [
    "![texto alternativo](Imagen/alpaca.png)"
   ]
  }
 ],
 "metadata": {
  "kernelspec": {
   "display_name": "Python 3",
   "language": "python",
   "name": "python3"
  },
  "language_info": {
   "codemirror_mode": {
    "name": "ipython",
    "version": 3
   },
   "file_extension": ".py",
   "mimetype": "text/x-python",
   "name": "python",
   "nbconvert_exporter": "python",
   "pygments_lexer": "ipython3",
   "version": "3.13.5"
  }
 },
 "nbformat": 4,
 "nbformat_minor": 5
}
